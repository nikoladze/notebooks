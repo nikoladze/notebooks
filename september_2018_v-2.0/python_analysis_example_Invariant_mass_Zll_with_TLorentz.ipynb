{
 "cells": [
  {
   "cell_type": "markdown",
   "metadata": {},
   "source": [
    "<CENTER><img src=\"../images/opendata-top-transblack.png\" style=\"width:40%\"></CENTER>"
   ]
  },
  {
   "cell_type": "markdown",
   "metadata": {},
   "source": [
    "<CENTER><h1>Simple pyROOT notebook example using TLorentz Vectors</h1></CENTER>"
   ]
  },
  {
   "cell_type": "code",
   "execution_count": 1,
   "metadata": {},
   "outputs": [
    {
     "name": "stdout",
     "output_type": "stream",
     "text": [
      "Welcome to JupyROOT 6.14/04\n"
     ]
    }
   ],
   "source": [
    "import ROOT"
   ]
  },
  {
   "cell_type": "code",
   "execution_count": 2,
   "metadata": {},
   "outputs": [],
   "source": [
    "## f = ROOT.TFile.Open(\"mc_105986.ZZ.root\")\n",
    "## f = ROOT.TFile.Open(\"mc_147770.Zee.root\")\n",
    "f = ROOT.TFile.Open(\"/project/etp3/nhartmann/opendata/MC/mc_147770.Zee.root\")"
   ]
  },
  {
   "cell_type": "code",
   "execution_count": 3,
   "metadata": {},
   "outputs": [],
   "source": [
    "t = f.Get(\"mini\")"
   ]
  },
  {
   "cell_type": "code",
   "execution_count": 4,
   "metadata": {},
   "outputs": [
    {
     "data": {
      "text/plain": [
       "7500000L"
      ]
     },
     "execution_count": 4,
     "metadata": {},
     "output_type": "execute_result"
    }
   ],
   "source": [
    "t.GetEntries()"
   ]
  },
  {
   "cell_type": "code",
   "execution_count": 5,
   "metadata": {},
   "outputs": [],
   "source": [
    "h = ROOT.TH1F(\"variable\",\"Example plot: Number of Leptons\",4,0,4)"
   ]
  },
  {
   "cell_type": "code",
   "execution_count": 6,
   "metadata": {},
   "outputs": [],
   "source": [
    "h_Mll = ROOT.TH1F(\"h_Mll\",\"Invariant mass of the two Leptons\",50,40,200)"
   ]
  },
  {
   "cell_type": "code",
   "execution_count": 7,
   "metadata": {
    "scrolled": true
   },
   "outputs": [
    {
     "name": "stdout",
     "output_type": "stream",
     "text": [
      "Processing event 0\n",
      "Processing event 10000\n",
      "Processing event 20000\n",
      "Processing event 30000\n",
      "Processing event 40000\n",
      "Processing event 50000\n",
      "Processing event 60000\n",
      "Processing event 70000\n",
      "Processing event 80000\n",
      "Processing event 90000\n",
      "Processing event 100000\n",
      "Stopping - this is too slow in python\n",
      "Done!\n",
      "CPU times: user 5.27 s, sys: 198 ms, total: 5.47 s\n",
      "Wall time: 4.99 s\n"
     ]
    }
   ],
   "source": [
    "%%time\n",
    "w = 1\n",
    "for i, event in enumerate(t):\n",
    "    \"\"\"This is the cut #1: request at least 2 leptons\"\"\"\n",
    "    if not (i%10000):\n",
    "        print(\"Processing event {}\".format(i))\n",
    "    if t.lep_n > 1:\n",
    "        \"\"\"Let's define one TLorentz vector for each, e.i. two vectors!\"\"\"\n",
    "        leadingLep = ROOT.TLorentzVector(t.lep_pt[0], t.lep_eta[0], t.lep_phi[0], t.lep_E[0])\n",
    "        secondLep  = ROOT.TLorentzVector(t.lep_pt[1], t.lep_eta[1], t.lep_phi[1], t.lep_E[1])\n",
    "\n",
    "        \"\"\"Next line does the addition of the two TLorentz vectors above and so,\n",
    "           we can ask the mass very easy\"\"\"\n",
    "        TL_ll = leadingLep + secondLep\n",
    "        \n",
    "        \"\"\"We devide the value of the combined vector by 1000 to get the value in GeV\"\"\"\n",
    "        mll = TL_ll.M()/1000.\n",
    "        h_Mll.Fill(mll,w)\n",
    "        \n",
    "    if i > 100000:\n",
    "        print(\"Stopping - this is too slow in python\")\n",
    "        break\n",
    "\n",
    "print \"Done!\""
   ]
  },
  {
   "cell_type": "markdown",
   "metadata": {},
   "source": [
    "# Let c++ do the hard work\n",
    "\n",
    "There are many ways to interface c++ with python. We will just write a simple ROOT macro and execute it via pyroot."
   ]
  },
  {
   "cell_type": "code",
   "execution_count": 8,
   "metadata": {},
   "outputs": [
    {
     "name": "stdout",
     "output_type": "stream",
     "text": [
      "Overwriting fill_mll.C\n"
     ]
    }
   ],
   "source": [
    "%%writefile fill_mll.C\n",
    "#include <iostream>\n",
    "#include \"TTree.h\"\n",
    "#include \"TH1.h\"\n",
    "#include \"TLorentzVector.h\"\n",
    "\n",
    "void fill_mll(TTree* tree, TH1F* hist) {\n",
    "\n",
    "    UInt_t  lep_n;      //number of preselected leptons\n",
    "    Float_t lep_pt[5],      //transverse momentum of the lepton\n",
    "            lep_charge[5],  //charge of the lep\n",
    "            lep_eta[5],     //pseudorapidity of the lepton\n",
    "            lep_phi[5],     //azimuthal angle of the lepton\n",
    "            lep_E[5];       //energy of the lepton\n",
    "\n",
    "    // Just read nescessary branches\n",
    "    tree->SetBranchAddress(\"lep_pt\", &lep_pt);\n",
    "    tree->SetBranchAddress(\"lep_eta\", &lep_eta);\n",
    "    tree->SetBranchAddress(\"lep_phi\", &lep_phi);\n",
    "    tree->SetBranchAddress(\"lep_E\", &lep_E);\n",
    "    tree->SetBranchAddress(\"lep_n\", &lep_n);\n",
    "\n",
    "    tree->SetBranchStatus(\"*\", 0);\n",
    "    tree->SetBranchStatus(\"lep_n\", 1);\n",
    "    tree->SetBranchStatus(\"lep_pt\", 1);\n",
    "    tree->SetBranchStatus(\"lep_eta\", 1);\n",
    "    tree->SetBranchStatus(\"lep_phi\", 1);\n",
    "    tree->SetBranchStatus(\"lep_E\", 1);\n",
    "\n",
    "    TLorentzVector leadinglep, secondlep;\n",
    "\n",
    "    for (int i=0; i<tree->GetEntriesFast(); i++) {\n",
    "        tree->GetEntry(i);\n",
    "\n",
    "        if (!(i%1000000)) {\n",
    "            std::cout << \"Processing event \" << i << std::endl;\n",
    "        }\n",
    "\n",
    "        if (lep_n < 2) continue;\n",
    "        \n",
    "        leadinglep.SetPtEtaPhiE(lep_pt[0], lep_eta[0], lep_phi[0], lep_E[0]);\n",
    "        secondlep.SetPtEtaPhiE(lep_pt[1], lep_eta[1], lep_phi[1], lep_E[1]);\n",
    "        hist->Fill((leadinglep+secondlep).M()/1000.);\n",
    "    }\n",
    "}\n"
   ]
  },
  {
   "cell_type": "code",
   "execution_count": 9,
   "metadata": {},
   "outputs": [
    {
     "data": {
      "text/plain": [
       "0L"
      ]
     },
     "execution_count": 9,
     "metadata": {},
     "output_type": "execute_result"
    },
    {
     "name": "stderr",
     "output_type": "stream",
     "text": [
      "Info in <TUnixSystem::ACLiC>: creating shared library /home/n/Nikolai.Hartmann/p/scripts/opendata-notebooks/september_2018_v-2.0/./fill_mll_C.so\n"
     ]
    }
   ],
   "source": [
    "# load the c++ function\n",
    "ROOT.gROOT.ProcessLine(\".L fill_mll.C+\")"
   ]
  },
  {
   "cell_type": "code",
   "execution_count": 10,
   "metadata": {},
   "outputs": [
    {
     "name": "stdout",
     "output_type": "stream",
     "text": [
      "CPU times: user 4.38 s, sys: 127 ms, total: 4.51 s\n",
      "Wall time: 4.51 s\n",
      "Processing event 0\n",
      "Processing event 1000000\n",
      "Processing event 2000000\n",
      "Processing event 3000000\n",
      "Processing event 4000000\n",
      "Processing event 5000000\n",
      "Processing event 6000000\n",
      "Processing event 7000000\n"
     ]
    }
   ],
   "source": [
    "%%time\n",
    "h_Mll.Reset()\n",
    "ROOT.fill_mll(t, h_Mll)"
   ]
  },
  {
   "cell_type": "code",
   "execution_count": 11,
   "metadata": {},
   "outputs": [
    {
     "data": {
      "image/png": "[encoded data removed]",
      "text/plain": [
       "<IPython.core.display.Image object>"
      ]
     },
     "metadata": {},
     "output_type": "display_data"
    }
   ],
   "source": [
    "c = ROOT.TCanvas(\"testCanvas\",\"a first way to plot a variable\",800,600)\n",
    "h_Mll.Draw()\n",
    "c.SetLogy()\n",
    "c.Draw()"
   ]
  },
  {
   "cell_type": "code",
   "execution_count": null,
   "metadata": {},
   "outputs": [],
   "source": []
  }
 ],
 "metadata": {
  "kernelspec": {
   "display_name": "Python 2",
   "language": "python",
   "name": "python2"
  },
  "language_info": {
   "codemirror_mode": {
    "name": "ipython",
    "version": 2
   },
   "file_extension": ".py",
   "mimetype": "text/x-python",
   "name": "python",
   "nbconvert_exporter": "python",
   "pygments_lexer": "ipython2",
   "version": "2.7.12"
  }
 },
 "nbformat": 4,
 "nbformat_minor": 1
}
